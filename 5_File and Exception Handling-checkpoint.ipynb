{
 "cells": [
  {
   "cell_type": "code",
   "execution_count": 4,
   "id": "dea870d2-94f1-44f9-b1c7-9be7c84c1f7f",
   "metadata": {},
   "outputs": [],
   "source": [
    "#Exercise 1: Read a file and display its contents\n",
    "def read_file(filename):\n",
    "    try:\n",
    "        with open(filename, 'r') as file:\n",
    "            print(file.read())\n",
    "    except FileNotFoundError:\n",
    "        print(f\"File '{filename}' not found.\")\n"
   ]
  },
  {
   "cell_type": "code",
   "execution_count": 6,
   "id": "f92f6539-9302-47ec-a268-2ea819957fea",
   "metadata": {},
   "outputs": [],
   "source": [
    "#Exercise 2: Copy the contents of one file to another\n",
    "\n",
    "def copy_file(source_filename, target_filename):\n",
    "    try:\n",
    "        with open(source_filename, 'r') as source_file:\n",
    "            with open(target_filename, 'w') as target_file:\n",
    "                target_file.write(source_file.read())\n",
    "        print(f\"File '{source_filename}' copied to '{target_filename}'.\")\n",
    "    except FileNotFoundError:\n",
    "        print(f\"File '{source_filename}' not found.\")"
   ]
  },
  {
   "cell_type": "code",
   "execution_count": 8,
   "id": "573a4380-e344-4b43-93d5-8e7989b8d4de",
   "metadata": {},
   "outputs": [],
   "source": [
    "#Exercise 3: Count the total number of words in a file\n",
    "\n",
    "def count_words_in_file(filename):\n",
    "    try:\n",
    "        with open(filename, 'r') as file:\n",
    "            words = file.read().split()\n",
    "            print(f\"Total words: {len(words)}\")\n",
    "    except FileNotFoundError:\n",
    "        print(f\"File '{filename}' not found.\")"
   ]
  },
  {
   "cell_type": "code",
   "execution_count": 12,
   "id": "45aa6609-b50a-4c5b-bec8-60fac0a108a7",
   "metadata": {},
   "outputs": [],
   "source": [
    "#Exercise 4: Convert a string to an integer with exception handling\n",
    "\n",
    "def convert_to_int():\n",
    "    try:\n",
    "        user_input = input(\"Enter a string to convert to integer: \")\n",
    "        integer = int(user_input)\n",
    "        print(f\"Integer: {integer}\")\n",
    "    except ValueError:\n",
    "        print(\"Invalid input. Please enter a valid integer.\")\n",
    "\n",
    "\n"
   ]
  },
  {
   "cell_type": "code",
   "execution_count": 14,
   "id": "3e33840e-5764-40cb-a471-3715e1f1b5bc",
   "metadata": {},
   "outputs": [],
   "source": [
    "#Exercise 5: Raise an exception for negative integers in a list\n",
    "\n",
    "def check_negative_numbers(numbers):\n",
    "    for num in numbers:\n",
    "        if num < 0:\n",
    "            raise ValueError(\"List contains negative integers.\")\n",
    "    print(\"List does not contain negative integers.\")\n",
    "\n",
    "def main():\n",
    "    try:\n",
    "        user_input = input(\"Enter a list of integers (space-separated): \")\n",
    "        numbers = list(map(int, user_input.split()))\n",
    "        check_negative_numbers(numbers)\n",
    "    except ValueError as e:\n",
    "        print(e)\n",
    "\n"
   ]
  },
  {
   "cell_type": "code",
   "execution_count": 16,
   "id": "679da922-0e03-4bda-93b1-ebb12ec336c8",
   "metadata": {},
   "outputs": [],
   "source": [
    "#Exercise 6: Compute the average of a list of integers with exception handling\n",
    "\n",
    "def compute_average():\n",
    "    try:\n",
    "        user_input = input(\"Enter a list of integers (space-separated): \")\n",
    "        numbers = list(map(int, user_input.split()))\n",
    "        average = sum(numbers) / len(numbers)\n",
    "        print(f\"Average: {average}\")\n",
    "    except ZeroDivisionError:\n",
    "        print(\"Cannot compute average of an empty list.\")\n",
    "    except ValueError:\n",
    "        print(\"Invalid input. Please enter valid integers.\")\n",
    "    finally:\n",
    "        print(\"Program has finished running.\")\n",
    "\n",
    "\n"
   ]
  },
  {
   "cell_type": "code",
   "execution_count": 18,
   "id": "1fc2e925-21cc-47ab-bb89-77619eefb955",
   "metadata": {},
   "outputs": [],
   "source": [
    "#Exercise 7: Write a string to a file with exception handling\n",
    "\n",
    "def write_to_file(filename):\n",
    "    try:\n",
    "        with open(filename, 'w') as file:\n",
    "            string = input(\"Enter a string to write to the file: \")\n",
    "            file.write(string)\n",
    "        print(\"Welcome! String written to file successfully.\")\n",
    "    except Exception as e:\n",
    "        print(f\"An error occurred: {e}\")\n"
   ]
  },
  {
   "cell_type": "code",
   "execution_count": 20,
   "id": "18c7a5e3-80de-48be-9b42-e1d5700da905",
   "metadata": {},
   "outputs": [],
   "source": [
    "def write_to_file(filename):\n",
    "    try:\n",
    "        with open(filename, 'w') as file:\n",
    "            string = input(\"Enter a string to write to the file: \")\n",
    "            file.write(string)\n",
    "    except Exception as e:\n",
    "        print(f\"An error occurred: {e}\")\n",
    "    else:\n",
    "        print(\"Welcome! String written to file successfully.\")\n",
    "\n"
   ]
  },
  {
   "cell_type": "code",
   "execution_count": 22,
   "id": "8628b413-9399-4d3a-83a6-55a478b618ed",
   "metadata": {},
   "outputs": [
    {
     "name": "stdin",
     "output_type": "stream",
     "text": [
      "Enter a filename:  johny\n",
      "Enter a string to write to the file:  t\n"
     ]
    },
    {
     "name": "stdout",
     "output_type": "stream",
     "text": [
      "Welcome! String written to file successfully.\n"
     ]
    }
   ],
   "source": [
    "\n",
    "# Example usage\n",
    "write_to_file(input(\"Enter a filename: \"))\n",
    "\n"
   ]
  },
  {
   "cell_type": "code",
   "execution_count": null,
   "id": "f119c85d-1efb-45d4-a118-6de6421d7e66",
   "metadata": {},
   "outputs": [],
   "source": []
  }
 ],
 "metadata": {
  "kernelspec": {
   "display_name": "Python [conda env:base] *",
   "language": "python",
   "name": "conda-base-py"
  },
  "language_info": {
   "codemirror_mode": {
    "name": "ipython",
    "version": 3
   },
   "file_extension": ".py",
   "mimetype": "text/x-python",
   "name": "python",
   "nbconvert_exporter": "python",
   "pygments_lexer": "ipython3",
   "version": "3.12.7"
  }
 },
 "nbformat": 4,
 "nbformat_minor": 5
}
